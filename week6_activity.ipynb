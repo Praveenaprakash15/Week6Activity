{
  "nbformat": 4,
  "nbformat_minor": 0,
  "metadata": {
    "colab": {
      "name": "week6 activity.ipynb",
      "provenance": [],
      "collapsed_sections": []
    },
    "kernelspec": {
      "name": "python3",
      "display_name": "Python 3"
    },
    "language_info": {
      "name": "python"
    }
  },
  "cells": [
    {
      "cell_type": "code",
      "source": [
        "import numpy as np\n",
        "import pandas as pd\n",
        "data=pd.read_excel('/content/sample_data/Dataset_w6.xlsx')\n",
        "data"
      ],
      "metadata": {
        "colab": {
          "base_uri": "https://localhost:8080/",
          "height": 554
        },
        "id": "OKq7POuTq3Ni",
        "outputId": "17849ed7-691a-4b8b-80aa-c5e30edf49bc"
      },
      "execution_count": null,
      "outputs": [
        {
          "output_type": "execute_result",
          "data": {
            "text/plain": [
              "                                country             Region  \\\n",
              "0                           Afghanistan       SouthernAsia   \n",
              "1                               Albania     SouthernEurope   \n",
              "2                               Algeria     NorthernAfrica   \n",
              "3                                Angola       MiddleAfrica   \n",
              "4                   Antigua and Barbuda          Caribbean   \n",
              "..                                  ...                ...   \n",
              "191  Venezuela (Bolivarian Republic of)       SouthAmerica   \n",
              "192                            Viet Nam  South-easternAsia   \n",
              "193                               Yemen        WesternAsia   \n",
              "194                              Zambia      EasternAfrica   \n",
              "195                            Zimbabwe      EasternAfrica   \n",
              "\n",
              "     Surface area (km2)  Population in thousands (2017)  \\\n",
              "0              652864.0                         35530.0   \n",
              "1               28748.0                          2930.0   \n",
              "2             2381741.0                         41318.0   \n",
              "3             1246700.0                         29784.0   \n",
              "4                 442.0                           102.0   \n",
              "..                  ...                             ...   \n",
              "191            912050.0                         31977.0   \n",
              "192            330967.0                         95541.0   \n",
              "193            527968.0                         28250.0   \n",
              "194            752612.0                         17094.0   \n",
              "195            390757.0                         16530.0   \n",
              "\n",
              "     GDP per capita (current US$)  Agricultural production index   \\\n",
              "0                           623.2                           125.0   \n",
              "1                          3984.2                           134.0   \n",
              "2                          4154.1                           160.0   \n",
              "3                          4714.1                           175.0   \n",
              "4                         14764.5                            88.0   \n",
              "..                            ...                             ...   \n",
              "191                       11068.9                           118.0   \n",
              "192                        2067.9                           136.0   \n",
              "193                        1106.4                           136.0   \n",
              "194                        1311.1                           179.0   \n",
              "195                         890.4                            99.0   \n",
              "\n",
              "     International trade: Imports (million US$)  \n",
              "0                                        3568.0  \n",
              "1                                        4669.0  \n",
              "2                                       47091.0  \n",
              "3                                        8790.0  \n",
              "4                                         491.0  \n",
              "..                                          ...  \n",
              "191                                     16324.0  \n",
              "192                                    174111.0  \n",
              "193                                      6861.0  \n",
              "194                                      7442.0  \n",
              "195                                      5212.0  \n",
              "\n",
              "[196 rows x 7 columns]"
            ],
            "text/html": [
              "\n",
              "  <div id=\"df-81c5423c-2178-46d8-81cd-0e05e9b4a4d6\">\n",
              "    <div class=\"colab-df-container\">\n",
              "      <div>\n",
              "<style scoped>\n",
              "    .dataframe tbody tr th:only-of-type {\n",
              "        vertical-align: middle;\n",
              "    }\n",
              "\n",
              "    .dataframe tbody tr th {\n",
              "        vertical-align: top;\n",
              "    }\n",
              "\n",
              "    .dataframe thead th {\n",
              "        text-align: right;\n",
              "    }\n",
              "</style>\n",
              "<table border=\"1\" class=\"dataframe\">\n",
              "  <thead>\n",
              "    <tr style=\"text-align: right;\">\n",
              "      <th></th>\n",
              "      <th>country</th>\n",
              "      <th>Region</th>\n",
              "      <th>Surface area (km2)</th>\n",
              "      <th>Population in thousands (2017)</th>\n",
              "      <th>GDP per capita (current US$)</th>\n",
              "      <th>Agricultural production index</th>\n",
              "      <th>International trade: Imports (million US$)</th>\n",
              "    </tr>\n",
              "  </thead>\n",
              "  <tbody>\n",
              "    <tr>\n",
              "      <th>0</th>\n",
              "      <td>Afghanistan</td>\n",
              "      <td>SouthernAsia</td>\n",
              "      <td>652864.0</td>\n",
              "      <td>35530.0</td>\n",
              "      <td>623.2</td>\n",
              "      <td>125.0</td>\n",
              "      <td>3568.0</td>\n",
              "    </tr>\n",
              "    <tr>\n",
              "      <th>1</th>\n",
              "      <td>Albania</td>\n",
              "      <td>SouthernEurope</td>\n",
              "      <td>28748.0</td>\n",
              "      <td>2930.0</td>\n",
              "      <td>3984.2</td>\n",
              "      <td>134.0</td>\n",
              "      <td>4669.0</td>\n",
              "    </tr>\n",
              "    <tr>\n",
              "      <th>2</th>\n",
              "      <td>Algeria</td>\n",
              "      <td>NorthernAfrica</td>\n",
              "      <td>2381741.0</td>\n",
              "      <td>41318.0</td>\n",
              "      <td>4154.1</td>\n",
              "      <td>160.0</td>\n",
              "      <td>47091.0</td>\n",
              "    </tr>\n",
              "    <tr>\n",
              "      <th>3</th>\n",
              "      <td>Angola</td>\n",
              "      <td>MiddleAfrica</td>\n",
              "      <td>1246700.0</td>\n",
              "      <td>29784.0</td>\n",
              "      <td>4714.1</td>\n",
              "      <td>175.0</td>\n",
              "      <td>8790.0</td>\n",
              "    </tr>\n",
              "    <tr>\n",
              "      <th>4</th>\n",
              "      <td>Antigua and Barbuda</td>\n",
              "      <td>Caribbean</td>\n",
              "      <td>442.0</td>\n",
              "      <td>102.0</td>\n",
              "      <td>14764.5</td>\n",
              "      <td>88.0</td>\n",
              "      <td>491.0</td>\n",
              "    </tr>\n",
              "    <tr>\n",
              "      <th>...</th>\n",
              "      <td>...</td>\n",
              "      <td>...</td>\n",
              "      <td>...</td>\n",
              "      <td>...</td>\n",
              "      <td>...</td>\n",
              "      <td>...</td>\n",
              "      <td>...</td>\n",
              "    </tr>\n",
              "    <tr>\n",
              "      <th>191</th>\n",
              "      <td>Venezuela (Bolivarian Republic of)</td>\n",
              "      <td>SouthAmerica</td>\n",
              "      <td>912050.0</td>\n",
              "      <td>31977.0</td>\n",
              "      <td>11068.9</td>\n",
              "      <td>118.0</td>\n",
              "      <td>16324.0</td>\n",
              "    </tr>\n",
              "    <tr>\n",
              "      <th>192</th>\n",
              "      <td>Viet Nam</td>\n",
              "      <td>South-easternAsia</td>\n",
              "      <td>330967.0</td>\n",
              "      <td>95541.0</td>\n",
              "      <td>2067.9</td>\n",
              "      <td>136.0</td>\n",
              "      <td>174111.0</td>\n",
              "    </tr>\n",
              "    <tr>\n",
              "      <th>193</th>\n",
              "      <td>Yemen</td>\n",
              "      <td>WesternAsia</td>\n",
              "      <td>527968.0</td>\n",
              "      <td>28250.0</td>\n",
              "      <td>1106.4</td>\n",
              "      <td>136.0</td>\n",
              "      <td>6861.0</td>\n",
              "    </tr>\n",
              "    <tr>\n",
              "      <th>194</th>\n",
              "      <td>Zambia</td>\n",
              "      <td>EasternAfrica</td>\n",
              "      <td>752612.0</td>\n",
              "      <td>17094.0</td>\n",
              "      <td>1311.1</td>\n",
              "      <td>179.0</td>\n",
              "      <td>7442.0</td>\n",
              "    </tr>\n",
              "    <tr>\n",
              "      <th>195</th>\n",
              "      <td>Zimbabwe</td>\n",
              "      <td>EasternAfrica</td>\n",
              "      <td>390757.0</td>\n",
              "      <td>16530.0</td>\n",
              "      <td>890.4</td>\n",
              "      <td>99.0</td>\n",
              "      <td>5212.0</td>\n",
              "    </tr>\n",
              "  </tbody>\n",
              "</table>\n",
              "<p>196 rows × 7 columns</p>\n",
              "</div>\n",
              "      <button class=\"colab-df-convert\" onclick=\"convertToInteractive('df-81c5423c-2178-46d8-81cd-0e05e9b4a4d6')\"\n",
              "              title=\"Convert this dataframe to an interactive table.\"\n",
              "              style=\"display:none;\">\n",
              "        \n",
              "  <svg xmlns=\"http://www.w3.org/2000/svg\" height=\"24px\"viewBox=\"0 0 24 24\"\n",
              "       width=\"24px\">\n",
              "    <path d=\"M0 0h24v24H0V0z\" fill=\"none\"/>\n",
              "    <path d=\"M18.56 5.44l.94 2.06.94-2.06 2.06-.94-2.06-.94-.94-2.06-.94 2.06-2.06.94zm-11 1L8.5 8.5l.94-2.06 2.06-.94-2.06-.94L8.5 2.5l-.94 2.06-2.06.94zm10 10l.94 2.06.94-2.06 2.06-.94-2.06-.94-.94-2.06-.94 2.06-2.06.94z\"/><path d=\"M17.41 7.96l-1.37-1.37c-.4-.4-.92-.59-1.43-.59-.52 0-1.04.2-1.43.59L10.3 9.45l-7.72 7.72c-.78.78-.78 2.05 0 2.83L4 21.41c.39.39.9.59 1.41.59.51 0 1.02-.2 1.41-.59l7.78-7.78 2.81-2.81c.8-.78.8-2.07 0-2.86zM5.41 20L4 18.59l7.72-7.72 1.47 1.35L5.41 20z\"/>\n",
              "  </svg>\n",
              "      </button>\n",
              "      \n",
              "  <style>\n",
              "    .colab-df-container {\n",
              "      display:flex;\n",
              "      flex-wrap:wrap;\n",
              "      gap: 12px;\n",
              "    }\n",
              "\n",
              "    .colab-df-convert {\n",
              "      background-color: #E8F0FE;\n",
              "      border: none;\n",
              "      border-radius: 50%;\n",
              "      cursor: pointer;\n",
              "      display: none;\n",
              "      fill: #1967D2;\n",
              "      height: 32px;\n",
              "      padding: 0 0 0 0;\n",
              "      width: 32px;\n",
              "    }\n",
              "\n",
              "    .colab-df-convert:hover {\n",
              "      background-color: #E2EBFA;\n",
              "      box-shadow: 0px 1px 2px rgba(60, 64, 67, 0.3), 0px 1px 3px 1px rgba(60, 64, 67, 0.15);\n",
              "      fill: #174EA6;\n",
              "    }\n",
              "\n",
              "    [theme=dark] .colab-df-convert {\n",
              "      background-color: #3B4455;\n",
              "      fill: #D2E3FC;\n",
              "    }\n",
              "\n",
              "    [theme=dark] .colab-df-convert:hover {\n",
              "      background-color: #434B5C;\n",
              "      box-shadow: 0px 1px 3px 1px rgba(0, 0, 0, 0.15);\n",
              "      filter: drop-shadow(0px 1px 2px rgba(0, 0, 0, 0.3));\n",
              "      fill: #FFFFFF;\n",
              "    }\n",
              "  </style>\n",
              "\n",
              "      <script>\n",
              "        const buttonEl =\n",
              "          document.querySelector('#df-81c5423c-2178-46d8-81cd-0e05e9b4a4d6 button.colab-df-convert');\n",
              "        buttonEl.style.display =\n",
              "          google.colab.kernel.accessAllowed ? 'block' : 'none';\n",
              "\n",
              "        async function convertToInteractive(key) {\n",
              "          const element = document.querySelector('#df-81c5423c-2178-46d8-81cd-0e05e9b4a4d6');\n",
              "          const dataTable =\n",
              "            await google.colab.kernel.invokeFunction('convertToInteractive',\n",
              "                                                     [key], {});\n",
              "          if (!dataTable) return;\n",
              "\n",
              "          const docLinkHtml = 'Like what you see? Visit the ' +\n",
              "            '<a target=\"_blank\" href=https://colab.research.google.com/notebooks/data_table.ipynb>data table notebook</a>'\n",
              "            + ' to learn more about interactive tables.';\n",
              "          element.innerHTML = '';\n",
              "          dataTable['output_type'] = 'display_data';\n",
              "          await google.colab.output.renderOutput(dataTable, element);\n",
              "          const docLink = document.createElement('div');\n",
              "          docLink.innerHTML = docLinkHtml;\n",
              "          element.appendChild(docLink);\n",
              "        }\n",
              "      </script>\n",
              "    </div>\n",
              "  </div>\n",
              "  "
            ]
          },
          "metadata": {},
          "execution_count": 13
        }
      ]
    },
    {
      "cell_type": "code",
      "source": [
        "#1. Find out how many countries are there in the dataset.\n",
        "data[\"country\"].count()"
      ],
      "metadata": {
        "colab": {
          "base_uri": "https://localhost:8080/"
        },
        "id": "MeDpBP5cXgbD",
        "outputId": "1588fe73-7542-424c-daf6-e95f5462b33e"
      },
      "execution_count": null,
      "outputs": [
        {
          "output_type": "execute_result",
          "data": {
            "text/plain": [
              "196"
            ]
          },
          "metadata": {},
          "execution_count": 4
        }
      ]
    },
    {
      "cell_type": "code",
      "source": [
        "#2. Find out how many countries with respect to the region are available in the dataset\n",
        "data.groupby('Region')['country'].nunique()\n"
      ],
      "metadata": {
        "colab": {
          "base_uri": "https://localhost:8080/"
        },
        "id": "l4lLQVKLXw5B",
        "outputId": "4114247d-cddc-441b-a566-f8ca9400083c"
      },
      "execution_count": 15,
      "outputs": [
        {
          "output_type": "execute_result",
          "data": {
            "text/plain": [
              "Region\n",
              "Caribbean            16\n",
              "CentralAmerica        8\n",
              "CentralAsia           5\n",
              "EasternAfrica        17\n",
              "EasternAsia           7\n",
              "EasternEurope        10\n",
              "Melanesia             5\n",
              "Micronesia            4\n",
              "MiddleAfrica          9\n",
              "NorthernAfrica        5\n",
              "NorthernAmerica       4\n",
              "NorthernEurope       10\n",
              "Oceania               2\n",
              "Polynesia             5\n",
              "South-easternAsia    11\n",
              "SouthAmerica         12\n",
              "SouthernAfrica        5\n",
              "SouthernAsia          9\n",
              "SouthernEurope       12\n",
              "WesternAfrica        15\n",
              "WesternAsia          18\n",
              "WesternEurope         7\n",
              "Name: country, dtype: int64"
            ]
          },
          "metadata": {},
          "execution_count": 15
        }
      ]
    },
    {
      "cell_type": "code",
      "source": [
        "#3.On average which region has the highest\n",
        "#a. GDP per capita (current US$)\n",
        "data1=data.groupby(['Region'])['GDP per capita (current US$)'].agg('mean')\n",
        "df=pd.DataFrame(data1)\n",
        "df['GDP per capita (current US$)'].idxmax() "
      ],
      "metadata": {
        "colab": {
          "base_uri": "https://localhost:8080/",
          "height": 35
        },
        "id": "OGXmyzkqoNzD",
        "outputId": "fdeb5c28-1c15-49e2-8b27-bd32f6d99475"
      },
      "execution_count": null,
      "outputs": [
        {
          "output_type": "execute_result",
          "data": {
            "text/plain": [
              "'NorthernAmerica'"
            ],
            "application/vnd.google.colaboratory.intrinsic+json": {
              "type": "string"
            }
          },
          "metadata": {},
          "execution_count": 29
        }
      ]
    },
    {
      "cell_type": "code",
      "source": [
        "#b. International trade: Imports (million US$)\n",
        "data1=data.groupby(['Region'])['International trade: Imports (million US$)'].agg('mean')\n",
        "df=pd.DataFrame(data1)\n",
        "df['International trade: Imports (million US$)'].idxmax() "
      ],
      "metadata": {
        "colab": {
          "base_uri": "https://localhost:8080/",
          "height": 35
        },
        "id": "LthMNkoN0fAF",
        "outputId": "31b29388-87dd-422a-ef99-c60a875b785d"
      },
      "execution_count": null,
      "outputs": [
        {
          "output_type": "execute_result",
          "data": {
            "text/plain": [
              "'NorthernAmerica'"
            ],
            "application/vnd.google.colaboratory.intrinsic+json": {
              "type": "string"
            }
          },
          "metadata": {},
          "execution_count": 32
        }
      ]
    },
    {
      "cell_type": "code",
      "source": [
        "#4. Find out which region has more consistent with respect to GDP per capita (current US$)"
      ],
      "metadata": {
        "id": "zsxUYk3d1LOL"
      },
      "execution_count": null,
      "outputs": []
    },
    {
      "cell_type": "code",
      "source": [
        "import pandas as pd\n",
        "import matplotlib.pyplot as plt\n",
        "import seaborn as sns\n",
        "data=pd.read_excel('/content/sample_data/Dataset_w6.xlsx')\n",
        "sns.barplot(x='Region',y='GDP per capita (current US$)',data=data,errwidth=0.5)\n",
        "plt.xticks(rotation=90)"
      ],
      "metadata": {
        "colab": {
          "base_uri": "https://localhost:8080/",
          "height": 396
        },
        "id": "248xT8ogUmVv",
        "outputId": "d4936836-c3df-414c-f848-a5ba20432e22"
      },
      "execution_count": 10,
      "outputs": [
        {
          "output_type": "execute_result",
          "data": {
            "text/plain": [
              "(array([ 0,  1,  2,  3,  4,  5,  6,  7,  8,  9, 10, 11, 12, 13, 14, 15, 16,\n",
              "        17, 18, 19, 20, 21]), <a list of 22 Text major ticklabel objects>)"
            ]
          },
          "metadata": {},
          "execution_count": 10
        },
        {
          "output_type": "display_data",
          "data": {
            "text/plain": [
              "<Figure size 432x288 with 1 Axes>"
            ],
            "image/png": "[encoded data removed]"
          },
          "metadata": {
            "needs_background": "light"
          }
        }
      ]
    }
  ]
}